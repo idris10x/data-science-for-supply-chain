{
  "nbformat": 4,
  "nbformat_minor": 0,
  "metadata": {
    "colab": {
      "name": "moving_average.ipynb",
      "provenance": [],
      "authorship_tag": "ABX9TyNvFwaDQgg/MiBLFP1192XJ"
    },
    "kernelspec": {
      "name": "python3",
      "display_name": "Python 3"
    },
    "language_info": {
      "name": "python"
    }
  },
  "cells": [
    {
      "cell_type": "code",
      "execution_count": 3,
      "metadata": {
        "id": "gtA1N-X63gu4"
      },
      "outputs": [],
      "source": [
        "import numpy as np\n",
        "import pandas as pd\n",
        "import scipy.stats as stats\n",
        "from scipy.stats import norm\n",
        "import matplotlib.pyplot as plt"
      ]
    },
    {
      "cell_type": "code",
      "source": [
        "def moving_average (d, extra_periods=1, n=3):\n",
        "\n",
        "  # Historical period length\n",
        "  cols = len(d)\n",
        "  # Append np.nan into the demand array to cover future periods\n",
        "  d = np.append(d, [np.nan]*extra_periods)\n",
        "  # Define the forecast array\n",
        "  f = np.full(cols+extra_periods,np.nan)\n",
        "\n",
        "  # Create all the t+1 forecast until the end of the historical period\n",
        "  for t in range (n,cols):\n",
        "    f[t] = np.mean(d[t-n:t])\n",
        "\n",
        "  # Forecast for all extra periods\n",
        "  f[t+1:] = np.mean(d[t-n+1:t+1])\n",
        "\n",
        "  # Return a DataFrame with the demand, forecast & error\n",
        "  df = pd.DataFrame.from_dict({'Demand':d, 'Forecast':f, 'Error':d-f})\n",
        "\n",
        "  return df"
      ],
      "metadata": {
        "id": "VPJ5AXtSVSPY"
      },
      "execution_count": 1,
      "outputs": []
    },
    {
      "cell_type": "code",
      "source": [
        "d = [28,19,18,13,19,16,19,18,13,16,16,11,18,15,13,15,13,11,13,10,12]\n",
        "df = moving_average(d, extra_periods=4, n=3)\n",
        "df.index.name = 'Period'"
      ],
      "metadata": {
        "id": "iji2uBzfwyhM"
      },
      "execution_count": 9,
      "outputs": []
    },
    {
      "cell_type": "code",
      "source": [
        "df[['Demand','Forecast']].plot(figsize=(6,3), title='Moving average', ylim=(0,30), style=['-'])"
      ],
      "metadata": {
        "colab": {
          "base_uri": "https://localhost:8080/",
          "height": 258
        },
        "id": "-MScxrpGxE9f",
        "outputId": "76a73de5-3158-468b-a58d-b8e503cd1a68"
      },
      "execution_count": 10,
      "outputs": [
        {
          "output_type": "execute_result",
          "data": {
            "text/plain": [
              "<matplotlib.axes._subplots.AxesSubplot at 0x7feba67edd90>"
            ]
          },
          "metadata": {},
          "execution_count": 10
        },
        {
          "output_type": "display_data",
          "data": {
            "image/png": "[encoded data removed]",
            "text/plain": [
              "<Figure size 432x216 with 1 Axes>"
            ]
          },
          "metadata": {
            "needs_background": "light"
          }
        }
      ]
    }
  ]
}